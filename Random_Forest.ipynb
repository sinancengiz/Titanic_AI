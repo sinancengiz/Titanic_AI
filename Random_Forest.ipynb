{
 "cells": [
  {
   "cell_type": "code",
   "execution_count": 166,
   "metadata": {},
   "outputs": [],
   "source": [
    "#Dependencies\n",
    "import pandas as pd\n",
    "import numpy as np\n",
    "import matplotlib.pyplot as plt\n",
    "from sklearn.externals import joblib\n",
    "from sklearn.model_selection import train_test_split\n",
    "from sklearn.model_selection import KFold\n",
    "from sklearn.ensemble import RandomForestClassifier\n",
    "from sklearn.preprocessing import StandardScaler"
   ]
  },
  {
   "cell_type": "code",
   "execution_count": 167,
   "metadata": {},
   "outputs": [
    {
     "data": {
      "text/html": [
       "<div>\n",
       "<style scoped>\n",
       "    .dataframe tbody tr th:only-of-type {\n",
       "        vertical-align: middle;\n",
       "    }\n",
       "\n",
       "    .dataframe tbody tr th {\n",
       "        vertical-align: top;\n",
       "    }\n",
       "\n",
       "    .dataframe thead th {\n",
       "        text-align: right;\n",
       "    }\n",
       "</style>\n",
       "<table border=\"1\" class=\"dataframe\">\n",
       "  <thead>\n",
       "    <tr style=\"text-align: right;\">\n",
       "      <th></th>\n",
       "      <th>Survived</th>\n",
       "      <th>Pclass</th>\n",
       "      <th>Sex</th>\n",
       "      <th>Age</th>\n",
       "      <th>SibSp</th>\n",
       "      <th>Parch</th>\n",
       "      <th>Fare</th>\n",
       "      <th>Embarked</th>\n",
       "    </tr>\n",
       "  </thead>\n",
       "  <tbody>\n",
       "    <tr>\n",
       "      <th>0</th>\n",
       "      <td>0</td>\n",
       "      <td>3</td>\n",
       "      <td>0</td>\n",
       "      <td>22.0</td>\n",
       "      <td>1</td>\n",
       "      <td>0</td>\n",
       "      <td>7.2500</td>\n",
       "      <td>0</td>\n",
       "    </tr>\n",
       "    <tr>\n",
       "      <th>1</th>\n",
       "      <td>1</td>\n",
       "      <td>1</td>\n",
       "      <td>1</td>\n",
       "      <td>38.0</td>\n",
       "      <td>1</td>\n",
       "      <td>0</td>\n",
       "      <td>71.2833</td>\n",
       "      <td>1</td>\n",
       "    </tr>\n",
       "    <tr>\n",
       "      <th>2</th>\n",
       "      <td>1</td>\n",
       "      <td>3</td>\n",
       "      <td>1</td>\n",
       "      <td>26.0</td>\n",
       "      <td>0</td>\n",
       "      <td>0</td>\n",
       "      <td>7.9250</td>\n",
       "      <td>0</td>\n",
       "    </tr>\n",
       "    <tr>\n",
       "      <th>3</th>\n",
       "      <td>1</td>\n",
       "      <td>1</td>\n",
       "      <td>1</td>\n",
       "      <td>35.0</td>\n",
       "      <td>1</td>\n",
       "      <td>0</td>\n",
       "      <td>53.1000</td>\n",
       "      <td>0</td>\n",
       "    </tr>\n",
       "    <tr>\n",
       "      <th>4</th>\n",
       "      <td>0</td>\n",
       "      <td>3</td>\n",
       "      <td>0</td>\n",
       "      <td>35.0</td>\n",
       "      <td>0</td>\n",
       "      <td>0</td>\n",
       "      <td>8.0500</td>\n",
       "      <td>0</td>\n",
       "    </tr>\n",
       "  </tbody>\n",
       "</table>\n",
       "</div>"
      ],
      "text/plain": [
       "   Survived  Pclass  Sex   Age  SibSp  Parch     Fare  Embarked\n",
       "0         0       3    0  22.0      1      0   7.2500         0\n",
       "1         1       1    1  38.0      1      0  71.2833         1\n",
       "2         1       3    1  26.0      0      0   7.9250         0\n",
       "3         1       1    1  35.0      1      0  53.1000         0\n",
       "4         0       3    0  35.0      0      0   8.0500         0"
      ]
     },
     "execution_count": 167,
     "metadata": {},
     "output_type": "execute_result"
    }
   ],
   "source": [
    "#reading the dataset\n",
    "train_data = pd.read_csv(\"Resources/cleaned_train.csv\")\n",
    "#Display dataset used in scaling\n",
    "train_data.head()"
   ]
  },
  {
   "cell_type": "markdown",
   "metadata": {},
   "source": [
    " # Attempt 1: Without Scaling or Binning"
   ]
  },
  {
   "cell_type": "code",
   "execution_count": 168,
   "metadata": {},
   "outputs": [
    {
     "data": {
      "text/html": [
       "<div>\n",
       "<style scoped>\n",
       "    .dataframe tbody tr th:only-of-type {\n",
       "        vertical-align: middle;\n",
       "    }\n",
       "\n",
       "    .dataframe tbody tr th {\n",
       "        vertical-align: top;\n",
       "    }\n",
       "\n",
       "    .dataframe thead th {\n",
       "        text-align: right;\n",
       "    }\n",
       "</style>\n",
       "<table border=\"1\" class=\"dataframe\">\n",
       "  <thead>\n",
       "    <tr style=\"text-align: right;\">\n",
       "      <th></th>\n",
       "      <th>Pclass</th>\n",
       "      <th>Sex</th>\n",
       "      <th>Age</th>\n",
       "      <th>SibSp</th>\n",
       "      <th>Parch</th>\n",
       "      <th>Fare</th>\n",
       "      <th>Embarked</th>\n",
       "    </tr>\n",
       "  </thead>\n",
       "  <tbody>\n",
       "    <tr>\n",
       "      <th>0</th>\n",
       "      <td>3</td>\n",
       "      <td>0</td>\n",
       "      <td>22.0</td>\n",
       "      <td>1</td>\n",
       "      <td>0</td>\n",
       "      <td>7.2500</td>\n",
       "      <td>0</td>\n",
       "    </tr>\n",
       "    <tr>\n",
       "      <th>1</th>\n",
       "      <td>1</td>\n",
       "      <td>1</td>\n",
       "      <td>38.0</td>\n",
       "      <td>1</td>\n",
       "      <td>0</td>\n",
       "      <td>71.2833</td>\n",
       "      <td>1</td>\n",
       "    </tr>\n",
       "    <tr>\n",
       "      <th>2</th>\n",
       "      <td>3</td>\n",
       "      <td>1</td>\n",
       "      <td>26.0</td>\n",
       "      <td>0</td>\n",
       "      <td>0</td>\n",
       "      <td>7.9250</td>\n",
       "      <td>0</td>\n",
       "    </tr>\n",
       "    <tr>\n",
       "      <th>3</th>\n",
       "      <td>1</td>\n",
       "      <td>1</td>\n",
       "      <td>35.0</td>\n",
       "      <td>1</td>\n",
       "      <td>0</td>\n",
       "      <td>53.1000</td>\n",
       "      <td>0</td>\n",
       "    </tr>\n",
       "    <tr>\n",
       "      <th>4</th>\n",
       "      <td>3</td>\n",
       "      <td>0</td>\n",
       "      <td>35.0</td>\n",
       "      <td>0</td>\n",
       "      <td>0</td>\n",
       "      <td>8.0500</td>\n",
       "      <td>0</td>\n",
       "    </tr>\n",
       "  </tbody>\n",
       "</table>\n",
       "</div>"
      ],
      "text/plain": [
       "   Pclass  Sex   Age  SibSp  Parch     Fare  Embarked\n",
       "0       3    0  22.0      1      0   7.2500         0\n",
       "1       1    1  38.0      1      0  71.2833         1\n",
       "2       3    1  26.0      0      0   7.9250         0\n",
       "3       1    1  35.0      1      0  53.1000         0\n",
       "4       3    0  35.0      0      0   8.0500         0"
      ]
     },
     "execution_count": 168,
     "metadata": {},
     "output_type": "execute_result"
    }
   ],
   "source": [
    "#Test is the X values for the data\n",
    "test = train_data.drop(labels='Survived', axis=1)\n",
    "test.head()"
   ]
  },
  {
   "cell_type": "code",
   "execution_count": 169,
   "metadata": {},
   "outputs": [
    {
     "data": {
      "text/plain": [
       "(714,)"
      ]
     },
     "execution_count": 169,
     "metadata": {},
     "output_type": "execute_result"
    }
   ],
   "source": [
    "#Target is the y values for the data\n",
    "target = train_data['Survived']\n",
    "target.shape"
   ]
  },
  {
   "cell_type": "code",
   "execution_count": 150,
   "metadata": {},
   "outputs": [],
   "source": [
    "#Split the data into train and test data\n",
    "X_train, X_test, y_train, y_test = train_test_split(test, target, random_state=42)"
   ]
  },
  {
   "cell_type": "code",
   "execution_count": 151,
   "metadata": {},
   "outputs": [
    {
     "data": {
      "text/plain": [
       "(535, 7)"
      ]
     },
     "execution_count": 151,
     "metadata": {},
     "output_type": "execute_result"
    }
   ],
   "source": [
    "X_train.shape"
   ]
  },
  {
   "cell_type": "code",
   "execution_count": 152,
   "metadata": {},
   "outputs": [
    {
     "data": {
      "text/plain": [
       "(179, 7)"
      ]
     },
     "execution_count": 152,
     "metadata": {},
     "output_type": "execute_result"
    }
   ],
   "source": [
    "X_test.shape"
   ]
  },
  {
   "cell_type": "code",
   "execution_count": 153,
   "metadata": {},
   "outputs": [
    {
     "name": "stdout",
     "output_type": "stream",
     "text": [
      "Maximum Value:  0.8212290502793296\n",
      "Minimum Value:  0.7430167597765364\n",
      "[16]\n"
     ]
    }
   ],
   "source": [
    "#Test random forest classifier with different numbers of decision trees\n",
    "#Save the number of trees and accuracy in a dictionary\n",
    "d = {}\n",
    "for i in np.arange(1,100):\n",
    "    clf = RandomForestClassifier(n_estimators=i)\n",
    "    clf_1 = clf.fit(X_train, y_train)\n",
    "    d.update({i:clf_1.score(X_test,y_test)})\n",
    "#finding the max and min accuracy scores\n",
    "my_dict = d\n",
    "key_max = max(my_dict.keys(), key=(lambda k: my_dict[k]))\n",
    "key_min = min(my_dict.keys(), key=(lambda k: my_dict[k]))\n",
    "\n",
    "print('Maximum Value: ',my_dict[key_max])\n",
    "print('Minimum Value: ',my_dict[key_min])\n",
    "\n",
    "#Find the corresponding number of trees where the result occurs.\n",
    "a = [key for key,values in d.items() if values == d[key_max]]\n",
    "print (a)"
   ]
  },
  {
   "cell_type": "code",
   "execution_count": 154,
   "metadata": {},
   "outputs": [
    {
     "data": {
      "text/plain": [
       "[<matplotlib.lines.Line2D at 0x28ff668e080>]"
      ]
     },
     "execution_count": 154,
     "metadata": {},
     "output_type": "execute_result"
    },
    {
     "data": {
      "image/png": "[encoded data removed]",
      "text/plain": [
       "<Figure size 432x288 with 1 Axes>"
      ]
     },
     "metadata": {},
     "output_type": "display_data"
    }
   ],
   "source": [
    "#At this point we noticed that the accuracy values and number of trees that they occur at change drastically with each iteration. This meant that\n",
    "#iterating over number of trees was not an effective method for optimizing accuracy. Since we know that accuracy in general increases as number of trees\n",
    "#increases, we plot the accuracy based on number of trees and look for the first region where the data becomes stable. We do this so we use the minimum \n",
    "#number of decision trees where the variance drops off. This maximizes accuracy per computation time because we want the prediction to run fast because it\n",
    "#is hosted on Heroku. Stability occurs around 40 trees regardless of number of re-runs.\n",
    "plt.plot(my_dict.keys(), my_dict.values())"
   ]
  },
  {
   "cell_type": "code",
   "execution_count": 155,
   "metadata": {},
   "outputs": [
    {
     "data": {
      "text/plain": [
       "0.776536312849162"
      ]
     },
     "execution_count": 155,
     "metadata": {},
     "output_type": "execute_result"
    }
   ],
   "source": [
    "#Score the model with 50 trees but use KFold to account for variation\n",
    "clf = RandomForestClassifier(n_estimators=50)\n",
    "clf.fit(X_train, y_train)\n",
    "clf.score(X_test, y_test)"
   ]
  },
  {
   "cell_type": "code",
   "execution_count": 156,
   "metadata": {},
   "outputs": [
    {
     "name": "stdout",
     "output_type": "stream",
     "text": [
      "[0.7083333333333334, 0.8194444444444444, 0.75, 0.7916666666666666, 0.8028169014084507, 0.7746478873239436, 0.7746478873239436, 0.7887323943661971, 0.8169014084507042, 0.8873239436619719]\n",
      "0.7914514866979656\n"
     ]
    }
   ],
   "source": [
    "#Unit testing was performed by executing kfold validation. This splits the data up into segments and uses 1 fold as test data\n",
    "#and k-1 folds as training data. This returns k results with each fold being used as testing data exactly once.\n",
    "#I then averaged the results to get a more accurate algorithm accuracy.\n",
    "clf = RandomForestClassifier(n_estimators=50)\n",
    "kfold_test_scores = []\n",
    "# 10 folds of the data with the same random state\n",
    "kf = KFold(n_splits=10, random_state=42)\n",
    "#Get indices for each split (the data has 714 rows: the first split contains the slice indices from 0 to 72 as test data, and 73-713 as train data)\n",
    "for train_index, test_index in kf.split(test):\n",
    "    X_train, X_test = test.iloc[train_index], test.iloc[test_index]\n",
    "    y_train, y_test = target[train_index], target[test_index]\n",
    "    #Fit the model with this split, score it, and append the score to the list\n",
    "    clf.fit(X_train, y_train)\n",
    "    test_score = clf.score(X_test, y_test)\n",
    "    kfold_test_scores.append(test_score)\n",
    "#Print all scores, then average them\n",
    "print(kfold_test_scores)\n",
    "avg = (sum(kfold_test_scores)/len(kfold_test_scores))\n",
    "print(avg)"
   ]
  },
  {
   "cell_type": "code",
   "execution_count": null,
   "metadata": {},
   "outputs": [],
   "source": []
  },
  {
   "cell_type": "markdown",
   "metadata": {},
   "source": [
    "# Attempt 2: Scaling"
   ]
  },
  {
   "cell_type": "code",
   "execution_count": 170,
   "metadata": {},
   "outputs": [],
   "source": [
    "#Attempt 2\n",
    "\n",
    "#Create a scaler that scales the data down to a standard normal (Guassian) distribution (mean=0, standard deviation=1)\n",
    "X_scaler = StandardScaler().fit(test)\n",
    "X_scaled = X_scaler.transform(test)"
   ]
  },
  {
   "cell_type": "code",
   "execution_count": 171,
   "metadata": {},
   "outputs": [],
   "source": [
    "X_train_2, X_test_2, y_train_2, y_test_2 = train_test_split(X_scaled, target, random_state=42)"
   ]
  },
  {
   "cell_type": "code",
   "execution_count": 172,
   "metadata": {},
   "outputs": [
    {
     "name": "stdout",
     "output_type": "stream",
     "text": [
      "Maximum Value:  0.8156424581005587\n",
      "Minimum Value:  0.7541899441340782\n",
      "[20]\n"
     ]
    },
    {
     "data": {
      "text/plain": [
       "[<matplotlib.lines.Line2D at 0x28ff6762748>]"
      ]
     },
     "execution_count": 172,
     "metadata": {},
     "output_type": "execute_result"
    },
    {
     "data": {
      "image/png": "[encoded data removed]",
      "text/plain": [
       "<Figure size 432x288 with 1 Axes>"
      ]
     },
     "metadata": {},
     "output_type": "display_data"
    }
   ],
   "source": [
    "#Test random forest classifier with different numbers of decision trees\n",
    "#Save the number of trees and accuracy in a dictionary\n",
    "d_2 = {}\n",
    "\n",
    "for i in np.arange(1,100):\n",
    "\n",
    "    clf = RandomForestClassifier(n_estimators=i)\n",
    "    clf_2 = clf.fit(X_train_2, y_train_2)\n",
    "    d_2.update({i:clf_2.score(X_test_2,y_test_2)})\n",
    "my_dict_2 = d_2\n",
    "\n",
    "key_max_2 = max(my_dict_2.keys(), key=(lambda k: my_dict_2[k]))\n",
    "key_min_2 = min(my_dict_2.keys(), key=(lambda k: my_dict_2[k]))\n",
    "\n",
    "print('Maximum Value: ',my_dict_2[key_max_2])\n",
    "print('Minimum Value: ',my_dict_2[key_min_2])\n",
    "\n",
    "max_tree = [key for key,values in d_2.items() if values == d_2[key_max_2]]\n",
    "print (max_tree)\n",
    "\n",
    "plt.plot(my_dict_2.keys()  , my_dict_2.values())"
   ]
  },
  {
   "cell_type": "code",
   "execution_count": 173,
   "metadata": {},
   "outputs": [
    {
     "data": {
      "text/plain": [
       "0.7932960893854749"
      ]
     },
     "execution_count": 173,
     "metadata": {},
     "output_type": "execute_result"
    }
   ],
   "source": [
    "#Stable around 50 trees.\n",
    "#Score the model with 50 trees but use KFold to account for variation\n",
    "clf = RandomForestClassifier(n_estimators=50)\n",
    "clf.fit(X_train_2, y_train_2)\n",
    "clf.score(X_test_2, y_test_2)"
   ]
  },
  {
   "cell_type": "code",
   "execution_count": 174,
   "metadata": {},
   "outputs": [
    {
     "name": "stdout",
     "output_type": "stream",
     "text": [
      "[0.6805555555555556, 0.8333333333333334, 0.7361111111111112, 0.8194444444444444, 0.8591549295774648, 0.8028169014084507, 0.7464788732394366, 0.8028169014084507, 0.8169014084507042, 0.8873239436619719]\n",
      "0.7984937402190925\n"
     ]
    }
   ],
   "source": [
    "clf = RandomForestClassifier(n_estimators=50)\n",
    "kfold_test_scores = []\n",
    "# 10 folds of the data with the same random state\n",
    "kf = KFold(n_splits=10, random_state=42)\n",
    "#Get indices for each split (the data has 714 rows: the first split contains the slice indices from 0 to 72 as test data, and 73-713 as train data)\n",
    "for train_index, test_index in kf.split(X_scaled):\n",
    "    X_train_2, X_test_2 = X_scaled[train_index], X_scaled[test_index]\n",
    "    y_train_2, y_test_2 = target[train_index], target[test_index]\n",
    "    #Fit the model with this split, score it, and append the score to the list\n",
    "    clf.fit(X_train_2, y_train_2)\n",
    "    test_score = clf.score(X_test_2, y_test_2)\n",
    "    kfold_test_scores.append(test_score)\n",
    "#Print all scores, then average them\n",
    "print(kfold_test_scores)\n",
    "avg = (sum(kfold_test_scores)/len(kfold_test_scores))\n",
    "print(avg)"
   ]
  },
  {
   "cell_type": "code",
   "execution_count": 175,
   "metadata": {},
   "outputs": [],
   "source": [
    "#After running all methods, the scaler and regular methods are about equally accurate. I choose to save the scaler method (Accuracy=0.80)\n",
    "#Save the scaler and the svc model to pkl files\n",
    "joblib.dump(X_scaler, 'Resources/models/rf_scaler.pkl');\n",
    "joblib.dump(clf, 'Resources/models/rf.pkl');"
   ]
  },
  {
   "cell_type": "markdown",
   "metadata": {},
   "source": [
    "# Attempt - 3 (Binning)"
   ]
  },
  {
   "cell_type": "code",
   "execution_count": 139,
   "metadata": {},
   "outputs": [
    {
     "data": {
      "text/html": [
       "<div>\n",
       "<style scoped>\n",
       "    .dataframe tbody tr th:only-of-type {\n",
       "        vertical-align: middle;\n",
       "    }\n",
       "\n",
       "    .dataframe tbody tr th {\n",
       "        vertical-align: top;\n",
       "    }\n",
       "\n",
       "    .dataframe thead th {\n",
       "        text-align: right;\n",
       "    }\n",
       "</style>\n",
       "<table border=\"1\" class=\"dataframe\">\n",
       "  <thead>\n",
       "    <tr style=\"text-align: right;\">\n",
       "      <th></th>\n",
       "      <th>Survived</th>\n",
       "      <th>Pclass</th>\n",
       "      <th>Sex</th>\n",
       "      <th>Age</th>\n",
       "      <th>SibSp</th>\n",
       "      <th>Parch</th>\n",
       "      <th>Fare</th>\n",
       "      <th>Embarked</th>\n",
       "    </tr>\n",
       "  </thead>\n",
       "  <tbody>\n",
       "    <tr>\n",
       "      <th>0</th>\n",
       "      <td>0</td>\n",
       "      <td>3</td>\n",
       "      <td>0</td>\n",
       "      <td>22.0</td>\n",
       "      <td>1</td>\n",
       "      <td>0</td>\n",
       "      <td>0</td>\n",
       "      <td>0</td>\n",
       "    </tr>\n",
       "    <tr>\n",
       "      <th>1</th>\n",
       "      <td>1</td>\n",
       "      <td>1</td>\n",
       "      <td>1</td>\n",
       "      <td>38.0</td>\n",
       "      <td>1</td>\n",
       "      <td>0</td>\n",
       "      <td>0</td>\n",
       "      <td>1</td>\n",
       "    </tr>\n",
       "    <tr>\n",
       "      <th>2</th>\n",
       "      <td>1</td>\n",
       "      <td>3</td>\n",
       "      <td>1</td>\n",
       "      <td>26.0</td>\n",
       "      <td>0</td>\n",
       "      <td>0</td>\n",
       "      <td>0</td>\n",
       "      <td>0</td>\n",
       "    </tr>\n",
       "    <tr>\n",
       "      <th>3</th>\n",
       "      <td>1</td>\n",
       "      <td>1</td>\n",
       "      <td>1</td>\n",
       "      <td>35.0</td>\n",
       "      <td>1</td>\n",
       "      <td>0</td>\n",
       "      <td>0</td>\n",
       "      <td>0</td>\n",
       "    </tr>\n",
       "    <tr>\n",
       "      <th>4</th>\n",
       "      <td>0</td>\n",
       "      <td>3</td>\n",
       "      <td>0</td>\n",
       "      <td>35.0</td>\n",
       "      <td>0</td>\n",
       "      <td>0</td>\n",
       "      <td>0</td>\n",
       "      <td>0</td>\n",
       "    </tr>\n",
       "  </tbody>\n",
       "</table>\n",
       "</div>"
      ],
      "text/plain": [
       "   Survived  Pclass  Sex   Age  SibSp  Parch  Fare  Embarked\n",
       "0         0       3    0  22.0      1      0     0         0\n",
       "1         1       1    1  38.0      1      0     0         1\n",
       "2         1       3    1  26.0      0      0     0         0\n",
       "3         1       1    1  35.0      1      0     0         0\n",
       "4         0       3    0  35.0      0      0     0         0"
      ]
     },
     "execution_count": 139,
     "metadata": {},
     "output_type": "execute_result"
    }
   ],
   "source": [
    "#Prepare Dataset to be used in binning\n",
    "binned_data = pd.read_csv('Resources/AG_train-test_v2.csv')\n",
    "#test_2 corresponds to our X data for binning method\n",
    "test_2 = binned_data.drop('Survived', axis = 1)\n",
    "test_2.drop('Unnamed: 0', axis = 1, inplace=True)\n",
    "binned_data.drop('Unnamed: 0', axis = 1, inplace=True)\n",
    "#target is the same as before\n",
    "target = binned_data['Survived']\n",
    "binned_data.head()"
   ]
  },
  {
   "cell_type": "code",
   "execution_count": 141,
   "metadata": {},
   "outputs": [
    {
     "data": {
      "text/html": [
       "<div>\n",
       "<style scoped>\n",
       "    .dataframe tbody tr th:only-of-type {\n",
       "        vertical-align: middle;\n",
       "    }\n",
       "\n",
       "    .dataframe tbody tr th {\n",
       "        vertical-align: top;\n",
       "    }\n",
       "\n",
       "    .dataframe thead th {\n",
       "        text-align: right;\n",
       "    }\n",
       "</style>\n",
       "<table border=\"1\" class=\"dataframe\">\n",
       "  <thead>\n",
       "    <tr style=\"text-align: right;\">\n",
       "      <th></th>\n",
       "      <th>Pclass</th>\n",
       "      <th>Sex</th>\n",
       "      <th>Age</th>\n",
       "      <th>SibSp</th>\n",
       "      <th>Parch</th>\n",
       "      <th>Fare</th>\n",
       "      <th>Embarked</th>\n",
       "    </tr>\n",
       "  </thead>\n",
       "  <tbody>\n",
       "    <tr>\n",
       "      <th>0</th>\n",
       "      <td>3</td>\n",
       "      <td>0</td>\n",
       "      <td>22.0</td>\n",
       "      <td>1</td>\n",
       "      <td>0</td>\n",
       "      <td>0</td>\n",
       "      <td>0</td>\n",
       "    </tr>\n",
       "    <tr>\n",
       "      <th>1</th>\n",
       "      <td>1</td>\n",
       "      <td>1</td>\n",
       "      <td>38.0</td>\n",
       "      <td>1</td>\n",
       "      <td>0</td>\n",
       "      <td>0</td>\n",
       "      <td>1</td>\n",
       "    </tr>\n",
       "    <tr>\n",
       "      <th>2</th>\n",
       "      <td>3</td>\n",
       "      <td>1</td>\n",
       "      <td>26.0</td>\n",
       "      <td>0</td>\n",
       "      <td>0</td>\n",
       "      <td>0</td>\n",
       "      <td>0</td>\n",
       "    </tr>\n",
       "    <tr>\n",
       "      <th>3</th>\n",
       "      <td>1</td>\n",
       "      <td>1</td>\n",
       "      <td>35.0</td>\n",
       "      <td>1</td>\n",
       "      <td>0</td>\n",
       "      <td>0</td>\n",
       "      <td>0</td>\n",
       "    </tr>\n",
       "    <tr>\n",
       "      <th>4</th>\n",
       "      <td>3</td>\n",
       "      <td>0</td>\n",
       "      <td>35.0</td>\n",
       "      <td>0</td>\n",
       "      <td>0</td>\n",
       "      <td>0</td>\n",
       "      <td>0</td>\n",
       "    </tr>\n",
       "  </tbody>\n",
       "</table>\n",
       "</div>"
      ],
      "text/plain": [
       "   Pclass  Sex   Age  SibSp  Parch  Fare  Embarked\n",
       "0       3    0  22.0      1      0     0         0\n",
       "1       1    1  38.0      1      0     0         1\n",
       "2       3    1  26.0      0      0     0         0\n",
       "3       1    1  35.0      1      0     0         0\n",
       "4       3    0  35.0      0      0     0         0"
      ]
     },
     "execution_count": 141,
     "metadata": {},
     "output_type": "execute_result"
    }
   ],
   "source": [
    "test_2.head()"
   ]
  },
  {
   "cell_type": "code",
   "execution_count": 142,
   "metadata": {},
   "outputs": [],
   "source": [
    "X_train_3, X_test_3, y_train_3, y_test_3 = train_test_split(test_2, target, random_state=42)"
   ]
  },
  {
   "cell_type": "code",
   "execution_count": 143,
   "metadata": {},
   "outputs": [
    {
     "name": "stdout",
     "output_type": "stream",
     "text": [
      "Maximum Value:  0.7966101694915254\n",
      "Minimum Value:  0.7005649717514124\n",
      "[16]\n"
     ]
    },
    {
     "data": {
      "text/plain": [
       "[<matplotlib.lines.Line2D at 0x28ff661a2b0>]"
      ]
     },
     "execution_count": 143,
     "metadata": {},
     "output_type": "execute_result"
    },
    {
     "data": {
      "image/png": "[encoded data removed]",
      "text/plain": [
       "<Figure size 432x288 with 1 Axes>"
      ]
     },
     "metadata": {},
     "output_type": "display_data"
    }
   ],
   "source": [
    "d_3 = {}\n",
    "\n",
    "for i in np.arange(1,100):\n",
    "\n",
    "    clf = RandomForestClassifier(n_estimators=i)\n",
    "    clf_3 = clf.fit(X_train_3, y_train_3)\n",
    "    d_3.update({i:clf_3.score(X_test_3,y_test_3)})\n",
    "my_dict_3 = d_3\n",
    "\n",
    "key_max_3 = max(my_dict_3.keys(), key=(lambda k: my_dict_3[k]))\n",
    "key_min_3 = min(my_dict_3.keys(), key=(lambda k: my_dict_3[k]))\n",
    "\n",
    "print('Maximum Value: ',my_dict_3[key_max_3])\n",
    "print('Minimum Value: ',my_dict_3[key_min_3])\n",
    "\n",
    "max_tree_3 = [key for key,values in d_3.items() if values == d_3[key_max_3]]\n",
    "print (max_tree_3)\n",
    "\n",
    "plt.plot(my_dict_3.keys()  , my_dict_3.values())"
   ]
  },
  {
   "cell_type": "code",
   "execution_count": 162,
   "metadata": {},
   "outputs": [
    {
     "data": {
      "text/plain": [
       "0.751412429378531"
      ]
     },
     "execution_count": 162,
     "metadata": {},
     "output_type": "execute_result"
    }
   ],
   "source": [
    "#The region becomes stable around 30 trees. Since we want to use the same number of trees for each test we use 50.\n",
    "clf = RandomForestClassifier(n_estimators=50)\n",
    "clf.fit(X_train_3, y_train_3)\n",
    "clf.score(X_test_3, y_test_3)"
   ]
  },
  {
   "cell_type": "code",
   "execution_count": 163,
   "metadata": {},
   "outputs": [
    {
     "name": "stdout",
     "output_type": "stream",
     "text": [
      "[0.5070422535211268, 0.6197183098591549, 0.5070422535211268, 0.4788732394366197, 0.5211267605633803, 0.5492957746478874, 0.5492957746478874, 0.5142857142857142, 0.5571428571428572, 0.5714285714285714]\n",
      "0.5375251509054325\n"
     ]
    }
   ],
   "source": [
    "#Confirm using KFold\n",
    "clf = RandomForestClassifier(n_estimators=50)\n",
    "kfold_test_scores = []\n",
    "# 10 folds of the data with the same random state\n",
    "kf = KFold(n_splits=10, random_state=42)\n",
    "#Get indices for each split (the data has 714 rows: the first split contains the slice indices from 0 to 72 as test data, and 73-713 as train data)\n",
    "for train_index, test_index in kf.split(test_2):\n",
    "    X_train_3, X_test_3 = test_2.iloc[train_index], test_2.iloc[test_index]\n",
    "    y_train_3, y_test_3 = target[train_index], target[test_index]\n",
    "    #Fit the model with this split, score it, and append the score to the list\n",
    "    clf.fit(X_train_3, y_train_3)\n",
    "    test_score = clf.score(X_test_3, y_test_3)\n",
    "    kfold_test_scores.append(test_score)\n",
    "#Print all scores, then average them\n",
    "print(kfold_test_scores)\n",
    "avg = (sum(kfold_test_scores)/len(kfold_test_scores))\n",
    "print(avg)"
   ]
  },
  {
   "cell_type": "code",
   "execution_count": null,
   "metadata": {},
   "outputs": [],
   "source": []
  }
 ],
 "metadata": {
  "kernelspec": {
   "display_name": "Python 3",
   "language": "python",
   "name": "python3"
  },
  "language_info": {
   "codemirror_mode": {
    "name": "ipython",
    "version": 3
   },
   "file_extension": ".py",
   "mimetype": "text/x-python",
   "name": "python",
   "nbconvert_exporter": "python",
   "pygments_lexer": "ipython3",
   "version": "3.6.4"
  }
 },
 "nbformat": 4,
 "nbformat_minor": 2
}
